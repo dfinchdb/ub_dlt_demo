{
 "cells": [
  {
   "cell_type": "markdown",
   "metadata": {
    "application/vnd.databricks.v1+cell": {
     "cellMetadata": {},
     "inputWidgets": {},
     "nuid": "ee353e42-ff58-4955-9608-12865bd0950e",
     "showTitle": false,
     "title": ""
    }
   },
   "source": [
    "# Default notebook\n",
    "\n",
    "This default notebook is executed using Databricks Workflows as defined in resources/ub_dlt_demo_job.yml."
   ]
  },
  {
   "cell_type": "code",
   "execution_count": null,
   "metadata": {
    "application/vnd.databricks.v1+cell": {
     "cellMetadata": {
      "byteLimit": 2048000,
      "rowLimit": 10000
     },
     "inputWidgets": {},
     "nuid": "6bca260b-13d1-448f-8082-30b60a85c9ae",
     "showTitle": false,
     "title": ""
    }
   },
   "outputs": [],
   "source": [
    "from pyspark.sql import SparkSession\n",
    "from pyspark.sql.types import *\n",
    "\n",
    "\n",
    "spark = SparkSession.builder.getOrCreate()\n",
    "\n",
    "# Set values for the storage account\n",
    "storage_account = \"ubsadatabrickspocnpl2\"\n",
    "storage_container = \"umpquapocdev\"\n",
    "lz_base_path = \"umpqua_poc/landing_zone\""
   ]
  },
  {
   "cell_type": "code",
   "execution_count": null,
   "metadata": {},
   "outputs": [],
   "source": [
    "# Define schema for the dataframe\n",
    "schema = StructType([\n",
    "    StructField(\"customer_id\", IntegerType(), True),\n",
    "    StructField(\"group_id\", IntegerType(), True),\n",
    "    StructField(\"group_name\", StringType(), True),\n",
    "    StructField(\"customer_name\", StringType(), True),\n",
    "    StructField(\"tax_id\", DoubleType(), True),\n",
    "    StructField(\"is_company\", IntegerType(), True),\n",
    "    StructField(\"is_treasury\", IntegerType(), True),\n",
    "    StructField(\"primary_cif\", IntegerType(), True),\n",
    "    StructField(\"service_charge_plan_id\", IntegerType(), True),\n",
    "    StructField(\"plan_name\", StringType(), True),\n",
    "    StructField(\"charge_account\", StringType(), True),\n",
    "    StructField(\"create_date\", StringType(), True),\n",
    "    StructField(\"street_address1\", StringType(), True),\n",
    "    StructField(\"street_address2\", StringType(), True),\n",
    "    StructField(\"city\", StringType(), True),\n",
    "    StructField(\"state\", StringType(), True),\n",
    "    StructField(\"postal_code\", IntegerType(), True),\n",
    "    StructField(\"province\", StringType(), True),\n",
    "    StructField(\"is_international\", IntegerType(), True),\n",
    "    StructField(\"iso_code_a3\", StringType(), True),\n",
    "])\n",
    "\n",
    "# Create dataframe with specified schema and values\n",
    "data = [\n",
    "    (12345,2,\"Business Customers\",\"LocalCorp\", None,1,1,15688,0,\"No Charge\", None,\"2018-11-05 14:02:00.753\",\"1675 E Valley Rd\",None,\"Santa Barbara\",\"CA\",93108,None,0,\"USA\"),\n",
    "    (23456,1,\"Retail Users\",\"WorldCorp Inc.\",121212121.0,1,0,238731,0,\"No Charge\",None,\"2018-11-30 09:37:02.007\",\"635 S SPENCER\",None,\"HINTON\",\"OK\",73047,None,0,\"USA\"),\n",
    "    (34567,3,\"Consumer\",\"Papa Georgio\",111111113.0,0,0,299914,0,\"No Charge\",None,\"2015-05-04 16:08:01.530\",\"206 W. Island\",\"Apt #3\",\"Colfax\",\"WA\",99111,None,0,\"USA\")\n",
    "]\n",
    "pii_df = spark.createDataFrame(data, schema)\n",
    "\n",
    "# Show the dataframe\n",
    "pii_df.display()"
   ]
  },
  {
   "cell_type": "code",
   "execution_count": null,
   "metadata": {},
   "outputs": [],
   "source": [
    "# Write the dataframe to the landing zone location\n",
    "pii_lz_dest = f\"abfss://{storage_container}@{storage_account}.dfs.core.windows.net/{lz_base_path}/customerpiidata\"\n",
    "\n",
    "pii_df.write.csv(\n",
    "    path=pii_lz_dest,\n",
    "    sep=\"||\",\n",
    "    header=True,\n",
    "    mode=\"append\",\n",
    ")"
   ]
  }
 ],
 "metadata": {
  "application/vnd.databricks.v1+notebook": {
   "dashboards": [],
   "language": "python",
   "notebookMetadata": {
    "pythonIndentUnit": 2
   },
   "notebookName": "notebook",
   "widgets": {}
  },
  "kernelspec": {
   "display_name": "Python 3",
   "language": "python",
   "name": "python3"
  },
  "language_info": {
   "name": "python",
   "version": "3.11.4"
  }
 },
 "nbformat": 4,
 "nbformat_minor": 0
}
